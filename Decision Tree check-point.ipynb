{
 "cells": [
  {
   "cell_type": "code",
   "execution_count": 1,
   "metadata": {},
   "outputs": [],
   "source": [
    "#Importing libraries\n",
    "import numpy as np\n",
    "import pandas as pd \n",
    "import matplotlib.pyplot as plt\n",
    "import seaborn as sns\n",
    "import sklearn\n",
    "\n",
    "\n",
    "from sklearn.ensemble import RandomForestClassifier\n",
    "from sklearn.model_selection import train_test_split\n",
    "from sklearn.metrics import mean_squared_error\n",
    "from sklearn import metrics"
   ]
  },
  {
   "cell_type": "code",
   "execution_count": 2,
   "metadata": {},
   "outputs": [],
   "source": [
    "#Import dataframe\n",
    "dataset = pd.read_csv (r'C:\\Python3\\Scripts\\titanic-passengers.csv', delimiter = ';')"
   ]
  },
  {
   "cell_type": "code",
   "execution_count": 3,
   "metadata": {},
   "outputs": [],
   "source": [
    "#Preprocessing our data\n",
    "def preprocess_data(new_data):\n",
    "    new_data['Age'].fillna(new_data['Age'].mean(),inplace=True)\n",
    "    new_data.replace({'Sex':{'male': 1,'female':0}},inplace=True)\n",
    "    new_data['Cabin']=new_data.Cabin.fillna('G6')\n",
    "    new_data.replace({'Survived':{'Yes': 1,'No':0}},inplace=True)\n",
    "    return new_data\n",
    "data=preprocess_data(dataset)"
   ]
  },
  {
   "cell_type": "code",
   "execution_count": 4,
   "metadata": {},
   "outputs": [],
   "source": [
    "#importing relevant libraries\n",
    "from sklearn.model_selection import train_test_split\n",
    "from sklearn import tree   \n",
    "from sklearn.tree import DecisionTreeClassifier\n",
    "from sklearn.metrics import accuracy_score"
   ]
  },
  {
   "cell_type": "code",
   "execution_count": 5,
   "metadata": {},
   "outputs": [
    {
     "name": "stdout",
     "output_type": "stream",
     "text": [
      "score:0.7653631284916201\n"
     ]
    }
   ],
   "source": [
    "#features extraction\n",
    "x=data.drop([\"Survived\", \"Name\", \"Cabin\", \"Ticket\", \"Embarked\"], axis=1)\n",
    "y= data[\"Survived\"]\n",
    "\n",
    "#splitting data\n",
    "x_train, x_test, y_train, y_test = train_test_split(x,y, test_size=0.20,random_state=10)\n",
    "\n",
    "#applying tree algorithm\n",
    "tree = tree.DecisionTreeClassifier()  \n",
    "tree.fit(x_train, y_train)   #fitting our model\n",
    "y_pred=tree.predict(x_test)   # evaluating our model\n",
    "print(\"score:{}\".format(accuracy_score(y_test, y_pred)))"
   ]
  },
  {
   "cell_type": "code",
   "execution_count": null,
   "metadata": {},
   "outputs": [],
   "source": []
  },
  {
   "cell_type": "code",
   "execution_count": 15,
   "metadata": {},
   "outputs": [],
   "source": [
    "from sklearn import datasets\n",
    "import pandas as pd\n",
    "from sklearn.model_selection import train_test_split\n",
    "from sklearn.ensemble import RandomForestClassifier #Importing Random Forest Classifier\n",
    "from sklearn import metrics  # Importing metrics to test accuracy\n",
    "\n",
    "iris = datasets.load_iris()\n",
    "\n",
    "data=pd.DataFrame({\n",
    "'sepal length': iris.data[:,0],\n",
    "'sepal width': iris.data[:,1],\n",
    "'petal length': iris.data[:,2],\n",
    "'petal width': iris.data[:,3], \n",
    "'species': iris.target\n",
    "})\n",
    "\n",
    "X=data[['sepal length', 'sepal width', 'petal length', 'petal width']] #features\n",
    "y=data['species']  #target\n",
    "x_train, x_test, y_train, y_test= train_test_split(X, y, test_size=0.3) #splitting data with test size of 30%"
   ]
  },
  {
   "cell_type": "code",
   "execution_count": 16,
   "metadata": {},
   "outputs": [
    {
     "name": "stdout",
     "output_type": "stream",
     "text": [
      "Accuracy: 0.9111111111111111\n"
     ]
    }
   ],
   "source": [
    "clf=RandomForestClassifier(n_estimators=10)  #Creating a random forest with 100 decision trees\n",
    "clf.fit(x_train, y_train)  #Training our model\n",
    "y_pred=clf.predict(x_test)  #testing our model\n",
    "print(\"Accuracy:\", metrics.accuracy_score(y_test, y_pred))  #Measuring the accuracy of our model"
   ]
  },
  {
   "cell_type": "code",
   "execution_count": null,
   "metadata": {},
   "outputs": [],
   "source": [
    "#the accuracy of the random forest method is better then the one of the decision tree "
   ]
  }
 ],
 "metadata": {
  "kernelspec": {
   "display_name": "Python 3",
   "language": "python",
   "name": "python3"
  },
  "language_info": {
   "codemirror_mode": {
    "name": "ipython",
    "version": 3
   },
   "file_extension": ".py",
   "mimetype": "text/x-python",
   "name": "python",
   "nbconvert_exporter": "python",
   "pygments_lexer": "ipython3",
   "version": "3.7.6"
  }
 },
 "nbformat": 4,
 "nbformat_minor": 4
}
