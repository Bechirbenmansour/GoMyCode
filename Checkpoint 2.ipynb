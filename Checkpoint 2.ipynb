{
 "cells": [
  {
   "cell_type": "code",
   "execution_count": null,
   "metadata": {},
   "outputs": [],
   "source": [
    "# Question 1: \n",
    "l = list()\n",
    "x = range(2000, 3200)\n",
    "for i in x:\n",
    "\tif i%7==0 and i%5!=0:\n",
    "\t\tl.append(i)\n",
    "\n",
    "print(l)\n"
   ]
  },
  {
   "cell_type": "code",
   "execution_count": 1,
   "metadata": {},
   "outputs": [],
   "source": [
    "# Question 2:\n",
    "n =int()\n",
    "def fun(n, f=1):\n",
    "\tfor i in range(1, n+1):\n",
    "\t\tf = f*i\n",
    "\tprint(f)\n",
    "\n",
    "# test fun(n)"
   ]
  },
  {
   "cell_type": "code",
   "execution_count": 2,
   "metadata": {},
   "outputs": [],
   "source": [
    "# Question 3:\n",
    "n = int()\n",
    "d = {}\n",
    "def f(n):\n",
    "\tfor i in range(1, n+1):\n",
    "\t\td[i] = i*i\n",
    "\tprint(d)\n",
    "\n",
    "#test f(n)"
   ]
  },
  {
   "cell_type": "code",
   "execution_count": 3,
   "metadata": {},
   "outputs": [],
   "source": [
    "# Question 4:\n",
    "\n",
    "a = str\n",
    "n = int\n",
    "def f(a, n):\n",
    "\tprint(a.replace(a[n],\"\"))\n",
    "\n",
    "#test f(String_exemple, n)"
   ]
  },
  {
   "cell_type": "code",
   "execution_count": 9,
   "metadata": {},
   "outputs": [
    {
     "name": "stdout",
     "output_type": "stream",
     "text": [
      "[1, 2, 3, 4, 5, 6]\n",
      "l type is: <class 'list'>\n"
     ]
    }
   ],
   "source": [
    "# Question 5:\n",
    "import numpy as np\n",
    "a = np.array([1,2,3,4,5,6])\n",
    "l = list()\n",
    "b=len(a)\n",
    "for i in range(0, b):\n",
    "\tl.append(a[i])\n",
    "\n",
    "print(l)\n",
    "print(\"l type is:\",type(l))"
   ]
  },
  {
   "cell_type": "code",
   "execution_count": 10,
   "metadata": {},
   "outputs": [
    {
     "data": {
      "text/plain": [
       "array([[ 1., -1.],\n",
       "       [-1.,  1.]])"
      ]
     },
     "execution_count": 10,
     "metadata": {},
     "output_type": "execute_result"
    }
   ],
   "source": [
    "# Question 6:\n",
    "import numpy as np\n",
    "arr1 = np.array([0,1,2])\n",
    "arr2 = np.array([2,1,0])\n",
    "\n",
    "np.cov(arr1,arr2)"
   ]
  },
  {
   "cell_type": "code",
   "execution_count": 32,
   "metadata": {},
   "outputs": [
    {
     "name": "stdout",
     "output_type": "stream",
     "text": [
      "Enter numbers separated by comas:100 , 150 ,180   \n",
      "[100, 150, 180]\n",
      "[18, 22, 24]\n"
     ]
    }
   ],
   "source": [
    "# Question 7:\n",
    "import math\n",
    "x = input(\"Enter numbers separated by comas:\")\n",
    "C = 50\n",
    "H = 30\n",
    "d = list()\n",
    "q1 = list()\n",
    "q = list()\n",
    "x = x.strip()\n",
    "y = x.split(\",\")\n",
    "for i in range(0, len(y)):\n",
    "    d.append(int(y[i]))\n",
    "print(d)\n",
    "\n",
    "for i in range(0, len(d)):\n",
    "    if d[i] > 0:\n",
    "        q1 = math.sqrt((2*C*d[i])/H)\n",
    "        q.append(int(q1))\n",
    "print(q)\n",
    "\n",
    "#run\n"
   ]
  },
  {
   "cell_type": "code",
   "execution_count": null,
   "metadata": {},
   "outputs": [],
   "source": []
  }
 ],
 "metadata": {
  "kernelspec": {
   "display_name": "Python 3",
   "language": "python",
   "name": "python3"
  },
  "language_info": {
   "codemirror_mode": {
    "name": "ipython",
    "version": 3
   },
   "file_extension": ".py",
   "mimetype": "text/x-python",
   "name": "python",
   "nbconvert_exporter": "python",
   "pygments_lexer": "ipython3",
   "version": "3.7.6"
  }
 },
 "nbformat": 4,
 "nbformat_minor": 4
}
